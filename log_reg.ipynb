{
 "cells": [
  {
   "cell_type": "code",
   "execution_count": null,
   "metadata": {},
   "outputs": [],
   "source": [
    "import numpy as np\n",
    "import matplotlib.pyplot as plt\n",
    "\n",
    "def draw_line(x1,x2):\n",
    "    ln=plt.plot(x1,x2)\n",
    "    plt.pause(0.01)\n",
    "    ln[0].remove()\n",
    "\n",
    "def plot_data():\n",
    "    _,ax=plt.subplots(figsize=(4,4))\n",
    "    ax.scatter(top_region[:,0],top_region[:,1],color='r')\n",
    "    ax.scatter(bottom_region[:,0],bottom_region[:,1],color='b')\n",
    "\n",
    "def sigmoid(score):\n",
    "    return 1/(1+np.exp(-score))\n",
    "\n",
    "def calculate_error(line_parameters,points,y):\n",
    "    p = sigmoid(points*line_parameters)\n",
    "    return -(1/points.shape[0])*(np.log(p).T *y+ np.log(1-p).T*(1-y))\n",
    "\n",
    "def gradient_descent(line_parameters,points,y,alpha=0.01):\n",
    "    m = points.shape[0]\n",
    "    for i in range(5000):\n",
    "            p = sigmoid(points*line_parameters)\n",
    "            gradient = (points.T*(p-y))/m\n",
    "            line_parameters = line_parameters - alpha*gradient\n",
    "            w1  = line_parameters.item(0)\n",
    "            w2  = line_parameters.item(1)\n",
    "            b  = line_parameters.item(2)\n",
    "            x1 = np.array([points[:,0].min(),points[:,0].max()])\n",
    "            #               w1x1 +w2x2+b = 0\n",
    "            x2 = -b/w2 + x1 * (-w1/w2)\n",
    "            draw_line(x1,x2)\n",
    "\n",
    "\n",
    "n_points = 100\n",
    "random_x1_values = np.random.normal(10,2,n_points)\n",
    "random_x2_values = np.random.normal(12,2,n_points)\n",
    "top_region = np.array([random_x1_values,random_x2_values])\n",
    "random_x1_values\n",
    "\n",
    "#creating the dataset\n",
    "\n",
    "np.random.seed(0)\n",
    "n_points = 100\n",
    "random_x1_values = np.random.normal(10,2,n_points)\n",
    "random_x2_values = np.random.normal(12,2,n_points)\n",
    "random_x1_values_ = np.random.normal(5,2,n_points)\n",
    "random_x2_values_ = np.random.normal(6,2,n_points)\n",
    "y_labels = np.array([np.zeros(n_points),np.ones(n_points)]).reshape(2*n_points,1)\n",
    "bias = np.ones(n_points)\n",
    "top_region = np.array([random_x1_values,random_x2_values,bias]).T\n",
    "bottom_region = np.array([random_x1_values_,random_x2_values_,bias]).T\n",
    "all_points = np.vstack((top_region,bottom_region))\n",
    "# w1 = -0.2\n",
    "# w2 = -0.35\n",
    "# b = 4.5\n",
    "x1 = np.array([bottom_region[:,0].min(),top_region[:,0].max()])\n",
    "line_parameters = np.matrix(np.zeros(3)).T\n",
    "#w1x1 +w2x2+b = 0\n",
    "# x2 = -b/w2 + x1 * (-w1/w2)\n",
    "# print(x1,x2)\n",
    "plot_data()\n",
    "# draw_line(x1,x2)\n",
    "gradient_descent(line_parameters,all_points,y_labels,alpha=0.01)"
   ]
  },
  {
   "cell_type": "code",
   "execution_count": 84,
   "metadata": {},
   "outputs": [
    {
     "data": {
      "text/plain": [
       "matrix([[0.69314718]])"
      ]
     },
     "execution_count": 84,
     "metadata": {},
     "output_type": "execute_result"
    }
   ],
   "source": [
    "calculate_error(line_parameters,all_points,y_labels)"
   ]
  },
  {
   "cell_type": "code",
   "execution_count": null,
   "metadata": {},
   "outputs": [],
   "source": []
  }
 ],
 "metadata": {
  "file_extension": ".py",
  "kernelspec": {
   "display_name": "Python 3",
   "language": "python",
   "name": "python3"
  },
  "language_info": {
   "codemirror_mode": {
    "name": "ipython",
    "version": 3
   },
   "file_extension": ".py",
   "mimetype": "text/x-python",
   "name": "python",
   "nbconvert_exporter": "python",
   "pygments_lexer": "ipython3",
   "version": "3.7.3"
  },
  "mimetype": "text/x-python",
  "name": "python",
  "npconvert_exporter": "python",
  "pygments_lexer": "ipython3",
  "version": 3
 },
 "nbformat": 4,
 "nbformat_minor": 4
}
